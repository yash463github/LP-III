{
 "cells": [
  {
   "cell_type": "markdown",
   "id": "f821b6c4",
   "metadata": {},
   "source": [
    "# Design n-Queens matrix having first Queen placed. Use backtracking to place remaining. Queens to generate the final n-queen’s matrix"
   ]
  },
  {
   "cell_type": "code",
   "execution_count": 4,
   "id": "d1472a5b",
   "metadata": {
    "scrolled": false
   },
   "outputs": [
    {
     "name": "stdout",
     "output_type": "stream",
     "text": [
      "Enter the size of the board (N): 8\n",
      "Enter the row (0 to 7) where the first queen is placed: 0\n",
      "Enter the column (0 to 7) where the first queen is placed: 0\n",
      "Final N-Queens matrix:\n",
      "[1, 0, 0, 0, 0, 0, 0, 0]\n",
      "[0, 0, 0, 0, 0, 0, 1, 0]\n",
      "[0, 0, 0, 0, 1, 0, 0, 0]\n",
      "[0, 0, 0, 0, 0, 0, 0, 1]\n",
      "[0, 1, 0, 0, 0, 0, 0, 0]\n",
      "[0, 0, 0, 1, 0, 0, 0, 0]\n",
      "[0, 0, 0, 0, 0, 1, 0, 0]\n",
      "[0, 0, 1, 0, 0, 0, 0, 0]\n"
     ]
    }
   ],
   "source": [
    "def is_safe(board, row, col, N):\n",
    "    # Check this row on left side\n",
    "    for i in range(col):\n",
    "        if board[row][i] == 1:\n",
    "            return False\n",
    "\n",
    "    # Check upper diagonal on left side\n",
    "    for i, j in zip(range(row, -1, -1), range(col, -1, -1)):\n",
    "        if board[i][j] == 1:\n",
    "            return False\n",
    "\n",
    "    # Check lower diagonal on left side\n",
    "    for i, j in zip(range(row, N, 1), range(col, -1, -1)):\n",
    "        if board[i][j] == 1:\n",
    "            return False\n",
    "\n",
    "    return True\n",
    "\n",
    "def solve_n_queens(board, col, N, first_col):\n",
    "    if col >= N:\n",
    "        return True\n",
    "\n",
    "    # Skip the column where the first queen is already placed\n",
    "    if col == first_col:\n",
    "        return solve_n_queens(board, col + 1, N, first_col)\n",
    "\n",
    "    for i in range(N):\n",
    "        if is_safe(board, i, col, N):\n",
    "            board[i][col] = 1\n",
    "            if solve_n_queens(board, col + 1, N, first_col):\n",
    "                return True\n",
    "            board[i][col] = 0  # Backtrack\n",
    "\n",
    "    return False\n",
    "\n",
    "def n_queens_with_first_queen(N, first_row, first_col):\n",
    "    # Initialize the board\n",
    "    board = [[0 for _ in range(N)] for _ in range(N)]\n",
    "    \n",
    "    # Place the first queen\n",
    "    board[first_row][first_col] = 1\n",
    "    \n",
    "    # Try to solve the rest of the board starting from the next column\n",
    "    if not solve_n_queens(board, 0, N, first_col):\n",
    "        print(\"Solution does not exist\")\n",
    "        return None\n",
    "    \n",
    "    return board\n",
    "\n",
    "# Get user input\n",
    "N = int(input(\"Enter the size of the board (N): \"))\n",
    "first_row = int(input(f\"Enter the row (0 to {N-1}) where the first queen is placed: \"))\n",
    "first_col = int(input(f\"Enter the column (0 to {N-1}) where the first queen is placed: \"))\n",
    "\n",
    "# Validate the input\n",
    "if 0 <= first_row < N and 0 <= first_col < N:\n",
    "    board = n_queens_with_first_queen(N, first_row, first_col)\n",
    "    if board:\n",
    "        print(\"Final N-Queens matrix:\")\n",
    "        for row in board:\n",
    "            print(row)\n",
    "else:\n",
    "    print(\"Invalid input! Please enter valid row and column values.\")"
   ]
  },
  {
   "cell_type": "code",
   "execution_count": null,
   "id": "4ead48e5",
   "metadata": {},
   "outputs": [],
   "source": []
  }
 ],
 "metadata": {
  "kernelspec": {
   "display_name": "Python 3 (ipykernel)",
   "language": "python",
   "name": "python3"
  },
  "language_info": {
   "codemirror_mode": {
    "name": "ipython",
    "version": 3
   },
   "file_extension": ".py",
   "mimetype": "text/x-python",
   "name": "python",
   "nbconvert_exporter": "python",
   "pygments_lexer": "ipython3",
   "version": "3.11.5"
  }
 },
 "nbformat": 4,
 "nbformat_minor": 5
}
