{
 "cells": [
  {
   "cell_type": "markdown",
   "id": "969cbfb6",
   "metadata": {},
   "source": [
    "# Dynamic Programming Approach"
   ]
  },
  {
   "cell_type": "code",
   "execution_count": 2,
   "id": "65edccf7",
   "metadata": {},
   "outputs": [
    {
     "name": "stdout",
     "output_type": "stream",
     "text": [
      "Maximum value in knapsack (DP): 50\n"
     ]
    }
   ],
   "source": [
    "def knapsack_dp(weights, values, W):\n",
    "    n = len(weights)\n",
    "    dp = [[0 for _ in range(W + 1)] for _ in range(n + 1)]\n",
    "\n",
    "    for i in range(1, n + 1):\n",
    "        for w in range(1, W + 1):\n",
    "            if weights[i-1] <= w:\n",
    "                dp[i][w] = max(values[i-1] + dp[i-1][w-weights[i-1]], dp[i-1][w])\n",
    "            else:\n",
    "                dp[i][w] = dp[i-1][w]\n",
    "    \n",
    "    return dp[n][W]\n",
    "\n",
    "# Example usage\n",
    "weights = [1, 2, 3, 4]\n",
    "values = [10, 20, 30, 40]\n",
    "W = 5\n",
    "print(f\"Maximum value in knapsack (DP): {knapsack_dp(weights, values, W)}\")\n"
   ]
  },
  {
   "cell_type": "markdown",
   "id": "5cf3f934",
   "metadata": {},
   "source": [
    "# Branch and Bound Approach"
   ]
  },
  {
   "cell_type": "code",
   "execution_count": 4,
   "id": "1fb5c0c6",
   "metadata": {},
   "outputs": [
    {
     "name": "stdout",
     "output_type": "stream",
     "text": [
      "Maximum value in knapsack (B&B): 50\n"
     ]
    }
   ],
   "source": [
    "class KnapsackBranchAndBound:\n",
    "    def __init__(self, weights, values, W):\n",
    "        self.weights = weights\n",
    "        self.values = values\n",
    "        self.W = W\n",
    "        self.n = len(weights)\n",
    "\n",
    "    def bound(self, node, capacity):\n",
    "        if node.weight >= capacity:\n",
    "            return 0\n",
    "        profit_bound = node.profit\n",
    "        j = node.level + 1\n",
    "        total_weight = node.weight\n",
    "\n",
    "        while j < self.n and total_weight + self.weights[j] <= capacity:\n",
    "            total_weight += self.weights[j]\n",
    "            profit_bound += self.values[j]\n",
    "            j += 1\n",
    "\n",
    "        if j < self.n:\n",
    "            profit_bound += (capacity - total_weight) * self.values[j] / self.weights[j]\n",
    "\n",
    "        return profit_bound\n",
    "\n",
    "    def knapsack(self):\n",
    "        Q = []\n",
    "        u = Node(-1, 0, 0, 0)\n",
    "        Q.append(u)\n",
    "        max_profit = 0\n",
    "\n",
    "        while Q:\n",
    "            u = Q.pop(0)\n",
    "\n",
    "            if u.level == self.n - 1:\n",
    "                continue\n",
    "\n",
    "            v = Node(u.level + 1, u.profit + self.values[u.level + 1], u.weight + self.weights[u.level + 1], 0)\n",
    "            v.bound = self.bound(v, self.W)\n",
    "\n",
    "            if v.weight <= self.W and v.profit > max_profit:\n",
    "                max_profit = v.profit\n",
    "\n",
    "            if v.bound > max_profit:\n",
    "                Q.append(v)\n",
    "\n",
    "            v = Node(u.level + 1, u.profit, u.weight, 0)\n",
    "            v.bound = self.bound(v, self.W)\n",
    "\n",
    "            if v.bound > max_profit:\n",
    "                Q.append(v)\n",
    "\n",
    "        return max_profit\n",
    "\n",
    "class Node:\n",
    "    def __init__(self, level, profit, weight, bound):\n",
    "        self.level = level\n",
    "        self.profit = profit\n",
    "        self.weight = weight\n",
    "        self.bound = bound\n",
    "\n",
    "# Example usage\n",
    "weights = [1, 2, 3, 4]\n",
    "values = [10, 20, 30, 40]\n",
    "W = 5\n",
    "knapsack_bnb = KnapsackBranchAndBound(weights, values, W)\n",
    "print(f\"Maximum value in knapsack (B&B): {knapsack_bnb.knapsack()}\")\n"
   ]
  }
 ],
 "metadata": {
  "kernelspec": {
   "display_name": "Python 3 (ipykernel)",
   "language": "python",
   "name": "python3"
  },
  "language_info": {
   "codemirror_mode": {
    "name": "ipython",
    "version": 3
   },
   "file_extension": ".py",
   "mimetype": "text/x-python",
   "name": "python",
   "nbconvert_exporter": "python",
   "pygments_lexer": "ipython3",
   "version": "3.11.5"
  }
 },
 "nbformat": 4,
 "nbformat_minor": 5
}
