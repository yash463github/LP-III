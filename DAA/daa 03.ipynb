{
 "cells": [
  {
   "cell_type": "markdown",
   "id": "f5b0ee66",
   "metadata": {},
   "source": [
    "# ExperimentNo.:-3"
   ]
  },
  {
   "cell_type": "markdown",
   "id": "55c49be8",
   "metadata": {},
   "source": [
    "# Fractional Knapsack Problem using a Greedy Method"
   ]
  },
  {
   "cell_type": "code",
   "execution_count": 1,
   "id": "271c8e31",
   "metadata": {},
   "outputs": [
    {
     "name": "stdout",
     "output_type": "stream",
     "text": [
      "Enter number of items-\n",
      "5\n",
      "Enter profit of item 1-\n",
      "30\n",
      "Enter weight of item 1-\n",
      "5\n",
      "Enter profit of item 2-\n",
      "40\n",
      "Enter weight of item 2-\n",
      "10\n",
      "Enter profit of item 3-\n",
      "45\n",
      "Enter weight of item 3-\n",
      "15\n",
      "Enter profit of item 4-\n",
      "77\n",
      "Enter weight of item 4-\n",
      "22\n",
      "Enter profit of item 5-\n",
      "90\n",
      "Enter weight of item 5-\n",
      "25\n",
      "Enter capacity of knapsack-\n",
      "60\n",
      "Maximum value in knapsack: 230.0\n"
     ]
    }
   ],
   "source": [
    "class Item:\n",
    "    def __init__(self, profit, weight):\n",
    "        self.profit = profit\n",
    "        self.weight = weight\n",
    "\n",
    "def fractionalKnapsack(w, arr):\n",
    "    # Sorting items by value per unit weight in descending order\n",
    "    arr.sort(key=lambda x: x.profit / x.weight, reverse=True)\n",
    "    finalValue = 0.0\n",
    "\n",
    "    for item in arr:\n",
    "        if w >= item.weight:\n",
    "            finalValue += item.profit\n",
    "            w -= item.weight\n",
    "        else:\n",
    "            finalValue += item.profit * (w / item.weight)\n",
    "            break\n",
    "    \n",
    "    return finalValue\n",
    "\n",
    "if __name__ == \"__main__\":\n",
    "    n = int(input(\"Enter number of items-\\n\"))\n",
    "    arr = []\n",
    "\n",
    "    for i in range(n):\n",
    "        profit = int(input(f\"Enter profit of item {i + 1}-\\n\"))\n",
    "        weight = int(input(f\"Enter weight of item {i + 1}-\\n\"))\n",
    "        arr.append(Item(profit, weight))\n",
    "\n",
    "    w = int(input(\"Enter capacity of knapsack-\\n\"))\n",
    "\n",
    "    print(\"Maximum value in knapsack:\", fractionalKnapsack(w, arr))\n"
   ]
  },
  {
   "cell_type": "code",
   "execution_count": null,
   "id": "e162ad2c",
   "metadata": {},
   "outputs": [],
   "source": []
  }
 ],
 "metadata": {
  "kernelspec": {
   "display_name": "Python 3 (ipykernel)",
   "language": "python",
   "name": "python3"
  },
  "language_info": {
   "codemirror_mode": {
    "name": "ipython",
    "version": 3
   },
   "file_extension": ".py",
   "mimetype": "text/x-python",
   "name": "python",
   "nbconvert_exporter": "python",
   "pygments_lexer": "ipython3",
   "version": "3.11.5"
  }
 },
 "nbformat": 4,
 "nbformat_minor": 5
}
